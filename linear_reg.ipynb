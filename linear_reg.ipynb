{
  "nbformat": 4,
  "nbformat_minor": 0,
  "metadata": {
    "colab": {
      "provenance": [],
      "authorship_tag": "ABX9TyPSDaqThySCkreJMtcmApk7",
      "include_colab_link": true
    },
    "kernelspec": {
      "name": "python3",
      "display_name": "Python 3"
    },
    "language_info": {
      "name": "python"
    }
  },
  "cells": [
    {
      "cell_type": "markdown",
      "metadata": {
        "id": "view-in-github",
        "colab_type": "text"
      },
      "source": [
        "<a href=\"https://colab.research.google.com/github/badaramoni/linear-regression-lib/blob/main/linear_reg.ipynb\" target=\"_parent\"><img src=\"https://colab.research.google.com/assets/colab-badge.svg\" alt=\"Open In Colab\"/></a>"
      ]
    },
    {
      "cell_type": "code",
      "execution_count": 2,
      "metadata": {
        "colab": {
          "base_uri": "https://localhost:8080/",
          "height": 35
        },
        "id": "uJKJtEkbHfLE",
        "outputId": "51a7233a-3fed-4191-8e83-6962cff09f42"
      },
      "outputs": [
        {
          "output_type": "execute_result",
          "data": {
            "text/plain": [
              "'2.2.1+cu121'"
            ],
            "application/vnd.google.colaboratory.intrinsic+json": {
              "type": "string"
            }
          },
          "metadata": {},
          "execution_count": 2
        }
      ],
      "source": [
        "import torch\n",
        "from torch import nn\n",
        "import matplotlib.pyplot as plt\n",
        "\n",
        "torch.__version__"
      ]
    },
    {
      "cell_type": "code",
      "source": [
        "weight = 0.7\n",
        "bias = 0.3\n",
        "\n",
        "start = 0\n",
        "end = 1\n",
        "step = 0.02\n",
        "X = torch.arange(start,end,step).unsqueeze(dim=1)\n",
        "y = weight * X + bias\n",
        "X[:10],y[:10]"
      ],
      "metadata": {
        "colab": {
          "base_uri": "https://localhost:8080/"
        },
        "id": "EhIdxTEoI2ci",
        "outputId": "78ace468-d50b-405c-a1b4-f0b731a4d47a"
      },
      "execution_count": 4,
      "outputs": [
        {
          "output_type": "execute_result",
          "data": {
            "text/plain": [
              "(tensor([[0.0000],\n",
              "         [0.0200],\n",
              "         [0.0400],\n",
              "         [0.0600],\n",
              "         [0.0800],\n",
              "         [0.1000],\n",
              "         [0.1200],\n",
              "         [0.1400],\n",
              "         [0.1600],\n",
              "         [0.1800]]),\n",
              " tensor([[0.3000],\n",
              "         [0.3140],\n",
              "         [0.3280],\n",
              "         [0.3420],\n",
              "         [0.3560],\n",
              "         [0.3700],\n",
              "         [0.3840],\n",
              "         [0.3980],\n",
              "         [0.4120],\n",
              "         [0.4260]]))"
            ]
          },
          "metadata": {},
          "execution_count": 4
        }
      ]
    },
    {
      "cell_type": "code",
      "source": [
        "len(X),len(y)"
      ],
      "metadata": {
        "colab": {
          "base_uri": "https://localhost:8080/"
        },
        "id": "cWmYcGfHLPeF",
        "outputId": "9620416b-484e-477e-a56a-91f46ba628f7"
      },
      "execution_count": 5,
      "outputs": [
        {
          "output_type": "execute_result",
          "data": {
            "text/plain": [
              "(50, 50)"
            ]
          },
          "metadata": {},
          "execution_count": 5
        }
      ]
    },
    {
      "cell_type": "code",
      "source": [
        "#create train split\n",
        "\n",
        "train_split = int(0.8 * len(X))\n",
        "X_train, y_train = X[:train_split],y[:train_split]\n",
        "X_test, y_test = X[train_split:],y[train_split:]\n",
        "\n",
        "len(X_train),len(y_train),len(X_test),len(y_test)"
      ],
      "metadata": {
        "colab": {
          "base_uri": "https://localhost:8080/"
        },
        "id": "U2_jDe3YLYOG",
        "outputId": "cb8aa147-2ce0-4af9-e834-8e14b0e79d39"
      },
      "execution_count": 6,
      "outputs": [
        {
          "output_type": "execute_result",
          "data": {
            "text/plain": [
              "(40, 40, 10, 10)"
            ]
          },
          "metadata": {},
          "execution_count": 6
        }
      ]
    },
    {
      "cell_type": "code",
      "source": [
        "def plot_predictions(train_data = X_train,\n",
        "                     train_labels= y_train,\n",
        "                     test_data = X_test,\n",
        "                     test_labels=y_test,\n",
        "                     predictions=None):\n",
        "  plt.figure(figsize=(10,7))\n",
        "\n",
        "  plt.scatter(train_data,train_labels, c= \"b\",s=4,label =\"Training data\")\n",
        "\n",
        "  plt.scatter(test_data,test_labels, c ='g', s=4, label=\"Testing data\")\n",
        "\n",
        "  if predictions is not None:\n",
        "    plt.scatter(test_data,predictions, c=\"r\", s=4, label=\"Predictions\")\n",
        "\n",
        "  plt.legend(prop={\"size\": 14});\n",
        "\n"
      ],
      "metadata": {
        "id": "wXii9z86OKT0"
      },
      "execution_count": 7,
      "outputs": []
    },
    {
      "cell_type": "code",
      "source": [
        "plot_predictions()"
      ],
      "metadata": {
        "colab": {
          "base_uri": "https://localhost:8080/",
          "height": 599
        },
        "id": "4GeZnNEzOntl",
        "outputId": "5b560d35-593d-4af6-bf74-163af9d626fb"
      },
      "execution_count": 8,
      "outputs": [
        {
          "output_type": "display_data",
          "data": {
            "text/plain": [
              "<Figure size 1000x700 with 1 Axes>"
            ],
            "image/png": "[encoded data removed]"
          },
          "metadata": {}
        }
      ]
    },
    {
      "cell_type": "code",
      "source": [
        "#building first pytorch model\n",
        "\n",
        "#create linear regression model\n",
        "\n",
        "\n",
        "class LinearRegressionModel(nn.Module):\n",
        "  def __init__(self):\n",
        "    super().__init__()\n",
        "    self.weights = nn.Parameter(torch.randn(1,\n",
        "                                            requires_grad=True,\n",
        "                                            dtype=torch.float))\n",
        "    self.bias = nn.Parameter(torch.rand(1,\n",
        "                                        requires_grad=True,\n",
        "                                        dtype=torch.float))\n",
        "\n",
        "  def forward(self,x: torch.Tensor) -> torch.Tensor:\n",
        "    return self.weights * x + self.bias"
      ],
      "metadata": {
        "id": "V3U_k88TRhVH"
      },
      "execution_count": 9,
      "outputs": []
    },
    {
      "cell_type": "code",
      "source": [
        "#pytorch\n",
        "#torch.nn\n",
        "#torch.nn.Parameters\n",
        "#torch.nn.Module\n",
        "#torch.optim\n",
        "#def forward()\n",
        "\n"
      ],
      "metadata": {
        "id": "mfG-vAV_pgHJ"
      },
      "execution_count": 10,
      "outputs": []
    },
    {
      "cell_type": "code",
      "source": [
        "#create a random seed\n",
        "\n",
        "torch.manual_seed(42)\n",
        "\n",
        "\n",
        "#create an instance of the model\n",
        "model_0 = LinearRegressionModel()\n",
        "\n",
        "\n",
        "list(model_0.parameters())\n"
      ],
      "metadata": {
        "colab": {
          "base_uri": "https://localhost:8080/"
        },
        "id": "2oR1VEx4rbXH",
        "outputId": "64bced17-0f17-45d8-be7b-f47cc0582421"
      },
      "execution_count": 11,
      "outputs": [
        {
          "output_type": "execute_result",
          "data": {
            "text/plain": [
              "[Parameter containing:\n",
              " tensor([0.3367], requires_grad=True),\n",
              " Parameter containing:\n",
              " tensor([0.3904], requires_grad=True)]"
            ]
          },
          "metadata": {},
          "execution_count": 11
        }
      ]
    },
    {
      "cell_type": "code",
      "source": [
        "model_0.state_dict()"
      ],
      "metadata": {
        "colab": {
          "base_uri": "https://localhost:8080/"
        },
        "id": "rRes3SFBrtUA",
        "outputId": "ac5eb09e-265c-4a28-892c-fbb626d6a65c"
      },
      "execution_count": 12,
      "outputs": [
        {
          "output_type": "execute_result",
          "data": {
            "text/plain": [
              "OrderedDict([('weights', tensor([0.3367])), ('bias', tensor([0.3904]))])"
            ]
          },
          "metadata": {},
          "execution_count": 12
        }
      ]
    },
    {
      "cell_type": "code",
      "source": [
        "weight,bias"
      ],
      "metadata": {
        "colab": {
          "base_uri": "https://localhost:8080/"
        },
        "id": "rLVPnS0Ss4RU",
        "outputId": "ebe22a9c-d0a9-44b6-e456-baeb05d304f8"
      },
      "execution_count": 13,
      "outputs": [
        {
          "output_type": "execute_result",
          "data": {
            "text/plain": [
              "(0.7, 0.3)"
            ]
          },
          "metadata": {},
          "execution_count": 13
        }
      ]
    },
    {
      "cell_type": "code",
      "source": [
        "X_test,y_test"
      ],
      "metadata": {
        "colab": {
          "base_uri": "https://localhost:8080/"
        },
        "id": "4JQx-nK7ujn3",
        "outputId": "abaebc64-7930-4e6f-cbed-922df282bd9a"
      },
      "execution_count": 14,
      "outputs": [
        {
          "output_type": "execute_result",
          "data": {
            "text/plain": [
              "(tensor([[0.8000],\n",
              "         [0.8200],\n",
              "         [0.8400],\n",
              "         [0.8600],\n",
              "         [0.8800],\n",
              "         [0.9000],\n",
              "         [0.9200],\n",
              "         [0.9400],\n",
              "         [0.9600],\n",
              "         [0.9800]]),\n",
              " tensor([[0.8600],\n",
              "         [0.8740],\n",
              "         [0.8880],\n",
              "         [0.9020],\n",
              "         [0.9160],\n",
              "         [0.9300],\n",
              "         [0.9440],\n",
              "         [0.9580],\n",
              "         [0.9720],\n",
              "         [0.9860]]))"
            ]
          },
          "metadata": {},
          "execution_count": 14
        }
      ]
    },
    {
      "cell_type": "code",
      "source": [
        "#prediction using torch.inference_mode()\n",
        "\n",
        "with torch.inference_mode():\n",
        "  y_preds = model_0(X_test)\n",
        "\n",
        "#with torch.no_grad():\n",
        "  #y_preds = model_0(X_test)\n",
        "\n",
        "y_preds"
      ],
      "metadata": {
        "colab": {
          "base_uri": "https://localhost:8080/"
        },
        "id": "A59lUAhUtK5Z",
        "outputId": "333335a9-e730-4efa-ebab-bc2cfc503aad"
      },
      "execution_count": 15,
      "outputs": [
        {
          "output_type": "execute_result",
          "data": {
            "text/plain": [
              "tensor([[0.6598],\n",
              "        [0.6665],\n",
              "        [0.6733],\n",
              "        [0.6800],\n",
              "        [0.6867],\n",
              "        [0.6935],\n",
              "        [0.7002],\n",
              "        [0.7069],\n",
              "        [0.7137],\n",
              "        [0.7204]])"
            ]
          },
          "metadata": {},
          "execution_count": 15
        }
      ]
    },
    {
      "cell_type": "code",
      "source": [
        "plot_predictions(predictions=y_preds)"
      ],
      "metadata": {
        "colab": {
          "base_uri": "https://localhost:8080/",
          "height": 599
        },
        "id": "vnNIVFc9uvvo",
        "outputId": "3d31f1c7-c0bd-4c74-d930-1052f9f6835c"
      },
      "execution_count": 16,
      "outputs": [
        {
          "output_type": "display_data",
          "data": {
            "text/plain": [
              "<Figure size 1000x700 with 1 Axes>"
            ],
            "image/png": "[encoded data removed]"
          },
          "metadata": {}
        }
      ]
    },
    {
      "cell_type": "code",
      "source": [
        "##Training model\n",
        "\n",
        "##\n",
        "\n",
        "list(model_0.parameters())"
      ],
      "metadata": {
        "colab": {
          "base_uri": "https://localhost:8080/"
        },
        "id": "ulD4wcrUv5Zz",
        "outputId": "cf4b4016-197c-4622-8d0d-912767f12d4b"
      },
      "execution_count": 17,
      "outputs": [
        {
          "output_type": "execute_result",
          "data": {
            "text/plain": [
              "[Parameter containing:\n",
              " tensor([0.3367], requires_grad=True),\n",
              " Parameter containing:\n",
              " tensor([0.3904], requires_grad=True)]"
            ]
          },
          "metadata": {},
          "execution_count": 17
        }
      ]
    },
    {
      "cell_type": "code",
      "source": [
        "model_0.state_dict()"
      ],
      "metadata": {
        "colab": {
          "base_uri": "https://localhost:8080/"
        },
        "id": "-fNAHm1s1-bq",
        "outputId": "099992a1-1619-4f83-b2fa-dee8d794e87d"
      },
      "execution_count": 18,
      "outputs": [
        {
          "output_type": "execute_result",
          "data": {
            "text/plain": [
              "OrderedDict([('weights', tensor([0.3367])), ('bias', tensor([0.3904]))])"
            ]
          },
          "metadata": {},
          "execution_count": 18
        }
      ]
    },
    {
      "cell_type": "code",
      "source": [
        "#setup loss function\n",
        "lossfn = nn.L1Loss()\n",
        "#setup optimizer\n",
        "optimizer = torch.optim.SGD(params= model_0.parameters(),lr = 0.001)"
      ],
      "metadata": {
        "id": "zJuvvOix2GOf"
      },
      "execution_count": 84,
      "outputs": []
    },
    {
      "cell_type": "code",
      "source": [
        "with torch.no_grad():\n",
        "  list(model_0.parameters())"
      ],
      "metadata": {
        "id": "2FQ4zflk81PK"
      },
      "execution_count": 85,
      "outputs": []
    },
    {
      "cell_type": "code",
      "source": [
        "list(model_0.parameters())"
      ],
      "metadata": {
        "colab": {
          "base_uri": "https://localhost:8080/"
        },
        "id": "Tz-ylsJJ8k3o",
        "outputId": "88a8880e-12ea-40c2-9635-e3d6a0c928b3"
      },
      "execution_count": 86,
      "outputs": [
        {
          "output_type": "execute_result",
          "data": {
            "text/plain": [
              "[Parameter containing:\n",
              " tensor([0.6893], requires_grad=True),\n",
              " Parameter containing:\n",
              " tensor([0.2989], requires_grad=True)]"
            ]
          },
          "metadata": {},
          "execution_count": 86
        }
      ]
    },
    {
      "cell_type": "code",
      "source": [
        "### Training Loop\n",
        "torch.manual_seed(42)\n",
        "\n",
        "epochs = 100\n",
        "\n",
        "\n",
        "for epochs in range(epochs):\n",
        "  model_0.train()\n",
        "\n",
        "  y_pred = model_0(X_train)\n",
        "\n",
        "  loss = lossfn(y_pred,y_train)\n",
        "  print(f\"Loss:{loss}\")\n",
        "\n",
        "  optimizer.zero_grad()\n",
        "\n",
        "  loss.backward()\n",
        "\n",
        "  optimizer.step()\n",
        "\n",
        "  model_0.eval()\n",
        "  print(model_0.state_dict())"
      ],
      "metadata": {
        "colab": {
          "base_uri": "https://localhost:8080/"
        },
        "id": "BquyYQd_30FD",
        "outputId": "6e89e38c-5577-495a-c7fc-8b599a9b8159"
      },
      "execution_count": 87,
      "outputs": [
        {
          "output_type": "stream",
          "name": "stdout",
          "text": [
            "Loss:0.00520740682259202\n",
            "OrderedDict([('weights', tensor([0.6897])), ('bias', tensor([0.2999]))])\n",
            "Loss:0.00405532494187355\n",
            "OrderedDict([('weights', tensor([0.6901])), ('bias', tensor([0.3009]))])\n",
            "Loss:0.003041864838451147\n",
            "OrderedDict([('weights', tensor([0.6905])), ('bias', tensor([0.3017]))])\n",
            "Loss:0.002427927451208234\n",
            "OrderedDict([('weights', tensor([0.6909])), ('bias', tensor([0.3022]))])\n",
            "Loss:0.0020659477449953556\n",
            "OrderedDict([('weights', tensor([0.6912])), ('bias', tensor([0.3026]))])\n",
            "Loss:0.001867581158876419\n",
            "OrderedDict([('weights', tensor([0.6915])), ('bias', tensor([0.3028]))])\n",
            "Loss:0.001743828528560698\n",
            "OrderedDict([('weights', tensor([0.6917])), ('bias', tensor([0.3030]))])\n",
            "Loss:0.0016664810245856643\n",
            "OrderedDict([('weights', tensor([0.6919])), ('bias', tensor([0.3030]))])\n",
            "Loss:0.001616019057109952\n",
            "OrderedDict([('weights', tensor([0.6921])), ('bias', tensor([0.3031]))])\n",
            "Loss:0.0015712759923189878\n",
            "OrderedDict([('weights', tensor([0.6923])), ('bias', tensor([0.3031]))])\n",
            "Loss:0.0015331432223320007\n",
            "OrderedDict([('weights', tensor([0.6925])), ('bias', tensor([0.3030]))])\n",
            "Loss:0.001498241676017642\n",
            "OrderedDict([('weights', tensor([0.6927])), ('bias', tensor([0.3030]))])\n",
            "Loss:0.0014633365208283067\n",
            "OrderedDict([('weights', tensor([0.6929])), ('bias', tensor([0.3029]))])\n",
            "Loss:0.001428434276022017\n",
            "OrderedDict([('weights', tensor([0.6931])), ('bias', tensor([0.3029]))])\n",
            "Loss:0.0013935364549979568\n",
            "OrderedDict([('weights', tensor([0.6932])), ('bias', tensor([0.3028]))])\n",
            "Loss:0.0013592332834377885\n",
            "OrderedDict([('weights', tensor([0.6934])), ('bias', tensor([0.3027]))])\n",
            "Loss:0.0013250112533569336\n",
            "OrderedDict([('weights', tensor([0.6936])), ('bias', tensor([0.3027]))])\n",
            "Loss:0.0012903250753879547\n",
            "OrderedDict([('weights', tensor([0.6937])), ('bias', tensor([0.3026]))])\n",
            "Loss:0.001256483024917543\n",
            "OrderedDict([('weights', tensor([0.6939])), ('bias', tensor([0.3025]))])\n",
            "Loss:0.0012215853203088045\n",
            "OrderedDict([('weights', tensor([0.6941])), ('bias', tensor([0.3025]))])\n",
            "Loss:0.0011877961223945022\n",
            "OrderedDict([('weights', tensor([0.6943])), ('bias', tensor([0.3024]))])\n",
            "Loss:0.0011530540650710464\n",
            "OrderedDict([('weights', tensor([0.6944])), ('bias', tensor([0.3023]))])\n",
            "Loss:0.001118890242651105\n",
            "OrderedDict([('weights', tensor([0.6946])), ('bias', tensor([0.3022]))])\n",
            "Loss:0.0010845295619219542\n",
            "OrderedDict([('weights', tensor([0.6948])), ('bias', tensor([0.3022]))])\n",
            "Loss:0.0010499857598915696\n",
            "OrderedDict([('weights', tensor([0.6949])), ('bias', tensor([0.3021]))])\n",
            "Loss:0.0010160095989704132\n",
            "OrderedDict([('weights', tensor([0.6951])), ('bias', tensor([0.3020]))])\n",
            "Loss:0.0009811051422730088\n",
            "OrderedDict([('weights', tensor([0.6953])), ('bias', tensor([0.3020]))])\n",
            "Loss:0.0009474620455875993\n",
            "OrderedDict([('weights', tensor([0.6955])), ('bias', tensor([0.3019]))])\n",
            "Loss:0.0009125784272328019\n",
            "OrderedDict([('weights', tensor([0.6956])), ('bias', tensor([0.3018]))])\n",
            "Loss:0.0008785605314187706\n",
            "OrderedDict([('weights', tensor([0.6958])), ('bias', tensor([0.3017]))])\n",
            "Loss:0.0008440531673841178\n",
            "OrderedDict([('weights', tensor([0.6960])), ('bias', tensor([0.3017]))])\n",
            "Loss:0.0008096508681774139\n",
            "OrderedDict([('weights', tensor([0.6961])), ('bias', tensor([0.3016]))])\n",
            "Loss:0.0007755301776342094\n",
            "OrderedDict([('weights', tensor([0.6963])), ('bias', tensor([0.3015]))])\n",
            "Loss:0.000740750867407769\n",
            "OrderedDict([('weights', tensor([0.6965])), ('bias', tensor([0.3014]))])\n",
            "Loss:0.000706999737303704\n",
            "OrderedDict([('weights', tensor([0.6967])), ('bias', tensor([0.3014]))])\n",
            "Loss:0.0006721012177877128\n",
            "OrderedDict([('weights', tensor([0.6968])), ('bias', tensor([0.3013]))])\n",
            "Loss:0.0006382167339324951\n",
            "OrderedDict([('weights', tensor([0.6970])), ('bias', tensor([0.3012]))])\n",
            "Loss:0.0006035752594470978\n",
            "OrderedDict([('weights', tensor([0.6972])), ('bias', tensor([0.3012]))])\n",
            "Loss:0.0005693145212717354\n",
            "OrderedDict([('weights', tensor([0.6973])), ('bias', tensor([0.3011]))])\n",
            "Loss:0.0005350507562980056\n",
            "OrderedDict([('weights', tensor([0.6975])), ('bias', tensor([0.3010]))])\n",
            "Loss:0.0005004055565223098\n",
            "OrderedDict([('weights', tensor([0.6977])), ('bias', tensor([0.3009]))])\n",
            "Loss:0.0004665195883717388\n",
            "OrderedDict([('weights', tensor([0.6979])), ('bias', tensor([0.3009]))])\n",
            "Loss:0.0004316240665502846\n",
            "OrderedDict([('weights', tensor([0.6980])), ('bias', tensor([0.3008]))])\n",
            "Loss:0.00039787814603187144\n",
            "OrderedDict([('weights', tensor([0.6982])), ('bias', tensor([0.3007]))])\n",
            "Loss:0.000363098835805431\n",
            "OrderedDict([('weights', tensor([0.6984])), ('bias', tensor([0.3007]))])\n",
            "Loss:0.000328974419971928\n",
            "OrderedDict([('weights', tensor([0.6985])), ('bias', tensor([0.3006]))])\n",
            "Loss:0.00029456912307068706\n",
            "OrderedDict([('weights', tensor([0.6987])), ('bias', tensor([0.3005]))])\n",
            "Loss:0.0002600722073111683\n",
            "OrderedDict([('weights', tensor([0.6989])), ('bias', tensor([0.3004]))])\n",
            "Loss:0.00022618025832343847\n",
            "OrderedDict([('weights', tensor([0.6991])), ('bias', tensor([0.3004]))])\n",
            "Loss:0.0001962125243153423\n",
            "OrderedDict([('weights', tensor([0.6992])), ('bias', tensor([0.3002]))])\n",
            "Loss:0.00019256696396041662\n",
            "OrderedDict([('weights', tensor([0.6995])), ('bias', tensor([0.3006]))])\n",
            "Loss:0.00039813295006752014\n",
            "OrderedDict([('weights', tensor([0.6991])), ('bias', tensor([0.2996]))])\n",
            "Loss:0.0007539570215158165\n",
            "OrderedDict([('weights', tensor([0.6995])), ('bias', tensor([0.3006]))])\n",
            "Loss:0.00039813295006752014\n",
            "OrderedDict([('weights', tensor([0.6991])), ('bias', tensor([0.2996]))])\n",
            "Loss:0.0007539570215158165\n",
            "OrderedDict([('weights', tensor([0.6995])), ('bias', tensor([0.3006]))])\n",
            "Loss:0.00039813295006752014\n",
            "OrderedDict([('weights', tensor([0.6991])), ('bias', tensor([0.2996]))])\n",
            "Loss:0.0007539570215158165\n",
            "OrderedDict([('weights', tensor([0.6995])), ('bias', tensor([0.3006]))])\n",
            "Loss:0.00039813295006752014\n",
            "OrderedDict([('weights', tensor([0.6991])), ('bias', tensor([0.2996]))])\n",
            "Loss:0.0007539570215158165\n",
            "OrderedDict([('weights', tensor([0.6995])), ('bias', tensor([0.3006]))])\n",
            "Loss:0.00039813295006752014\n",
            "OrderedDict([('weights', tensor([0.6991])), ('bias', tensor([0.2996]))])\n",
            "Loss:0.0007539570215158165\n",
            "OrderedDict([('weights', tensor([0.6995])), ('bias', tensor([0.3006]))])\n",
            "Loss:0.00039813295006752014\n",
            "OrderedDict([('weights', tensor([0.6991])), ('bias', tensor([0.2996]))])\n",
            "Loss:0.0007539570215158165\n",
            "OrderedDict([('weights', tensor([0.6995])), ('bias', tensor([0.3006]))])\n",
            "Loss:0.00039813295006752014\n",
            "OrderedDict([('weights', tensor([0.6991])), ('bias', tensor([0.2996]))])\n",
            "Loss:0.0007539570215158165\n",
            "OrderedDict([('weights', tensor([0.6995])), ('bias', tensor([0.3006]))])\n",
            "Loss:0.00039813295006752014\n",
            "OrderedDict([('weights', tensor([0.6991])), ('bias', tensor([0.2996]))])\n",
            "Loss:0.0007539570215158165\n",
            "OrderedDict([('weights', tensor([0.6995])), ('bias', tensor([0.3006]))])\n",
            "Loss:0.00039813295006752014\n",
            "OrderedDict([('weights', tensor([0.6991])), ('bias', tensor([0.2996]))])\n",
            "Loss:0.0007539570215158165\n",
            "OrderedDict([('weights', tensor([0.6995])), ('bias', tensor([0.3006]))])\n",
            "Loss:0.00039813295006752014\n",
            "OrderedDict([('weights', tensor([0.6991])), ('bias', tensor([0.2996]))])\n",
            "Loss:0.0007539570215158165\n",
            "OrderedDict([('weights', tensor([0.6995])), ('bias', tensor([0.3006]))])\n",
            "Loss:0.00039813295006752014\n",
            "OrderedDict([('weights', tensor([0.6991])), ('bias', tensor([0.2996]))])\n",
            "Loss:0.0007539570215158165\n",
            "OrderedDict([('weights', tensor([0.6995])), ('bias', tensor([0.3006]))])\n",
            "Loss:0.00039813295006752014\n",
            "OrderedDict([('weights', tensor([0.6991])), ('bias', tensor([0.2996]))])\n",
            "Loss:0.0007539570215158165\n",
            "OrderedDict([('weights', tensor([0.6995])), ('bias', tensor([0.3006]))])\n",
            "Loss:0.00039813295006752014\n",
            "OrderedDict([('weights', tensor([0.6991])), ('bias', tensor([0.2996]))])\n",
            "Loss:0.0007539570215158165\n",
            "OrderedDict([('weights', tensor([0.6995])), ('bias', tensor([0.3006]))])\n",
            "Loss:0.00039813295006752014\n",
            "OrderedDict([('weights', tensor([0.6991])), ('bias', tensor([0.2996]))])\n",
            "Loss:0.0007539570215158165\n",
            "OrderedDict([('weights', tensor([0.6995])), ('bias', tensor([0.3006]))])\n",
            "Loss:0.00039813295006752014\n",
            "OrderedDict([('weights', tensor([0.6991])), ('bias', tensor([0.2996]))])\n",
            "Loss:0.0007539570215158165\n",
            "OrderedDict([('weights', tensor([0.6995])), ('bias', tensor([0.3006]))])\n",
            "Loss:0.00039813295006752014\n",
            "OrderedDict([('weights', tensor([0.6991])), ('bias', tensor([0.2996]))])\n",
            "Loss:0.0007539570215158165\n",
            "OrderedDict([('weights', tensor([0.6995])), ('bias', tensor([0.3006]))])\n",
            "Loss:0.00039813295006752014\n",
            "OrderedDict([('weights', tensor([0.6991])), ('bias', tensor([0.2996]))])\n",
            "Loss:0.0007539570215158165\n",
            "OrderedDict([('weights', tensor([0.6995])), ('bias', tensor([0.3006]))])\n",
            "Loss:0.00039813295006752014\n",
            "OrderedDict([('weights', tensor([0.6991])), ('bias', tensor([0.2996]))])\n",
            "Loss:0.0007539570215158165\n",
            "OrderedDict([('weights', tensor([0.6995])), ('bias', tensor([0.3006]))])\n",
            "Loss:0.00039813295006752014\n",
            "OrderedDict([('weights', tensor([0.6991])), ('bias', tensor([0.2996]))])\n",
            "Loss:0.0007539570215158165\n",
            "OrderedDict([('weights', tensor([0.6995])), ('bias', tensor([0.3006]))])\n",
            "Loss:0.00039813295006752014\n",
            "OrderedDict([('weights', tensor([0.6991])), ('bias', tensor([0.2996]))])\n",
            "Loss:0.0007539570215158165\n",
            "OrderedDict([('weights', tensor([0.6995])), ('bias', tensor([0.3006]))])\n",
            "Loss:0.00039813295006752014\n",
            "OrderedDict([('weights', tensor([0.6991])), ('bias', tensor([0.2996]))])\n",
            "Loss:0.0007539570215158165\n",
            "OrderedDict([('weights', tensor([0.6995])), ('bias', tensor([0.3006]))])\n",
            "Loss:0.00039813295006752014\n",
            "OrderedDict([('weights', tensor([0.6991])), ('bias', tensor([0.2996]))])\n",
            "Loss:0.0007539570215158165\n",
            "OrderedDict([('weights', tensor([0.6995])), ('bias', tensor([0.3006]))])\n",
            "Loss:0.00039813295006752014\n",
            "OrderedDict([('weights', tensor([0.6991])), ('bias', tensor([0.2996]))])\n",
            "Loss:0.0007539570215158165\n",
            "OrderedDict([('weights', tensor([0.6995])), ('bias', tensor([0.3006]))])\n",
            "Loss:0.00039813295006752014\n",
            "OrderedDict([('weights', tensor([0.6991])), ('bias', tensor([0.2996]))])\n",
            "Loss:0.0007539570215158165\n",
            "OrderedDict([('weights', tensor([0.6995])), ('bias', tensor([0.3006]))])\n",
            "Loss:0.00039813295006752014\n",
            "OrderedDict([('weights', tensor([0.6991])), ('bias', tensor([0.2996]))])\n"
          ]
        }
      ]
    },
    {
      "cell_type": "code",
      "source": [
        "with torch.inference_mode():\n",
        "  y_pred_new = model_0(X_test)"
      ],
      "metadata": {
        "id": "Fvbz9yuVC3VE"
      },
      "execution_count": 88,
      "outputs": []
    },
    {
      "cell_type": "code",
      "source": [
        "plot_predictions(predictions=y_pred_new)"
      ],
      "metadata": {
        "colab": {
          "base_uri": "https://localhost:8080/",
          "height": 599
        },
        "id": "bO-cgUFSEUgo",
        "outputId": "1d938451-b2cf-42cc-80a3-4f5d989af22d"
      },
      "execution_count": 89,
      "outputs": [
        {
          "output_type": "display_data",
          "data": {
            "text/plain": [
              "<Figure size 1000x700 with 1 Axes>"
            ],
            "image/png": "[encoded data removed]"
          },
          "metadata": {}
        }
      ]
    },
    {
      "cell_type": "code",
      "source": [
        "model_0.state_dict()"
      ],
      "metadata": {
        "colab": {
          "base_uri": "https://localhost:8080/"
        },
        "id": "kLsB6mK3DWYs",
        "outputId": "13ffcbbc-0812-4554-87fb-14bb3eb78328"
      },
      "execution_count": 90,
      "outputs": [
        {
          "output_type": "execute_result",
          "data": {
            "text/plain": [
              "OrderedDict([('weights', tensor([0.6991])), ('bias', tensor([0.2996]))])"
            ]
          },
          "metadata": {},
          "execution_count": 90
        }
      ]
    },
    {
      "cell_type": "code",
      "source": [
        "weight, bias"
      ],
      "metadata": {
        "colab": {
          "base_uri": "https://localhost:8080/"
        },
        "id": "DQTVYBDgERg2",
        "outputId": "71126eb7-306f-41d3-ea1f-28729118e098"
      },
      "execution_count": 26,
      "outputs": [
        {
          "output_type": "execute_result",
          "data": {
            "text/plain": [
              "(0.7, 0.3)"
            ]
          },
          "metadata": {},
          "execution_count": 26
        }
      ]
    },
    {
      "cell_type": "code",
      "source": [],
      "metadata": {
        "id": "wjI4vJPYFl3R"
      },
      "execution_count": 26,
      "outputs": []
    }
  ]
}